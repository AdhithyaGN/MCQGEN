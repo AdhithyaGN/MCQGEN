{
 "cells": [
  {
   "cell_type": "code",
   "execution_count": null,
   "metadata": {},
   "outputs": [],
   "source": [
    "import os\n"
   ]
  },
  {
   "cell_type": "code",
   "execution_count": 2,
   "metadata": {},
   "outputs": [],
   "source": [
    "from langchain_core.prompts import ChatPromptTemplate\n",
    "from langchain_community.llms import Ollama\n",
    "from langchain.chains.sequential import SequentialChain\n",
    "from langchain_core.prompts import PromptTemplate\n",
    "from langchain.chains import LLMChain"
   ]
  },
  {
   "cell_type": "code",
   "execution_count": 3,
   "metadata": {},
   "outputs": [],
   "source": [
    "response_json={\n",
    "    \"1\":{\n",
    "        \"mcq\":\"multiple choice questions\",\n",
    "        \"options\":{\n",
    "            \"a\":\"choice here\",\n",
    "            \"b\":\"choice here\",\n",
    "            \"c\":\"choice here\",\n",
    "            \"d\":\"choice here\"\n",
    "        },\n",
    "        \"correct\":\"correct answer\"\n",
    "    },\n",
    "    \"2\":{\n",
    "        \"mcq\":\"multiple choice questions\",\n",
    "        \"options\":{\n",
    "            \"a\":\"choice here\",\n",
    "            \"b\":\"choice here\",\n",
    "            \"c\":\"choice here\",\n",
    "            \"d\":\"choice here\"\n",
    "        },\n",
    "        \"correct\":\"correct answer\"\n",
    "    },\n",
    "    \"3\":{\n",
    "        \"mcq\":\"multiple choice questions\",\n",
    "        \"options\":{\n",
    "            \"a\":\"choice here\",\n",
    "            \"b\":\"choice here\",\n",
    "            \"c\":\"choice here\",\n",
    "            \"d\":\"choice here\"\n",
    "        },\n",
    "        \"correct\":\"correct answer\"\n",
    "    },\n",
    "     \"4\":{\n",
    "        \"mcq\":\"multiple choice questions\",\n",
    "        \"options\":{\n",
    "            \"a\":\"choice here\",\n",
    "            \"b\":\"choice here\",\n",
    "            \"c\":\"choice here\",\n",
    "            \"d\":\"choice here\"\n",
    "        },\n",
    "        \"correct\":\"correct answer\"\n",
    "    }\n",
    "\n",
    "}"
   ]
  },
  {
   "cell_type": "code",
   "execution_count": 3,
   "metadata": {},
   "outputs": [],
   "source": [
    "llm=Ollama(model='llama3')"
   ]
  },
  {
   "cell_type": "code",
   "execution_count": 117,
   "metadata": {},
   "outputs": [],
   "source": [
    "template1=\"\"\"\n",
    "Text:{text}\n",
    "You are an expert MCQ maker.Given the above text,it is your job to \\\n",
    "create a quiz of {number} multiple choice questions for {subject} students in {tone} tone.\n",
    "Make sure the questions are not repeated and check all the questions to be conforming he text as well.\n",
    "make sure to format your response like RESONSE_JSON below and use it as a guide.\\\n",
    "Ensure to make {number} MCQs.\n",
    "###Response Json\n",
    "{response_json}    \"\"\""
   ]
  },
  {
   "cell_type": "code",
   "execution_count": 118,
   "metadata": {},
   "outputs": [],
   "source": [
    "quiz_generation_prompt=PromptTemplate(input_variables=['text','number','subject','tone','response_json'],template=template1)"
   ]
  },
  {
   "cell_type": "code",
   "execution_count": 119,
   "metadata": {},
   "outputs": [],
   "source": [
    "chain1=LLMChain(llm=llm,prompt=quiz_generation_prompt,output_key='quiz',verbose=True)"
   ]
  },
  {
   "cell_type": "code",
   "execution_count": null,
   "metadata": {},
   "outputs": [],
   "source": []
  },
  {
   "cell_type": "code",
   "execution_count": 120,
   "metadata": {},
   "outputs": [],
   "source": [
    "template2=\"\"\"\n",
    "You are an expert english grammarian and writer .Given a multiple choice Quiz for {subject} students.\\\n",
    "You need to evaluate the complexity of the question and give a complete analysis of the quiz.Only use at max 50 words for complexity.\n",
    "if the quiz is not at per with the cognitive and analytical abilities of the students ,\\\n",
    "update the quiz questions which needs to be changed  and change the tone such that it perfectly fits the student abilities\n",
    "Quiz_MCQs:\n",
    "{quiz}\n",
    "check from an expert Engish Writer of the above quiz \"\"\""
   ]
  },
  {
   "cell_type": "code",
   "execution_count": 121,
   "metadata": {},
   "outputs": [],
   "source": [
    "quiz_evaluation_prompt=PromptTemplate(input_variables=['subject','quiz'],template=template2)"
   ]
  },
  {
   "cell_type": "code",
   "execution_count": 122,
   "metadata": {},
   "outputs": [],
   "source": [
    "chain2=LLMChain(llm=llm,prompt=quiz_evaluation_prompt,output_key='review',verbose=True)"
   ]
  },
  {
   "cell_type": "code",
   "execution_count": 123,
   "metadata": {},
   "outputs": [],
   "source": [
    "generate_evalaute_chain=SequentialChain(chains=[chain1,chain2],input_variables=['text','number','subject','tone','response_json'],output_variables=['quiz','review'],verbose=True)"
   ]
  },
  {
   "cell_type": "code",
   "execution_count": null,
   "metadata": {},
   "outputs": [],
   "source": []
  },
  {
   "cell_type": "code",
   "execution_count": 124,
   "metadata": {},
   "outputs": [],
   "source": [
    "import json"
   ]
  },
  {
   "cell_type": "code",
   "execution_count": 125,
   "metadata": {},
   "outputs": [],
   "source": [
    "filepath=\"C:/Users/S K E F/Desktop/GenAI/projects/MCQGEN/experiments/data.txt\""
   ]
  },
  {
   "cell_type": "code",
   "execution_count": 126,
   "metadata": {},
   "outputs": [],
   "source": [
    "with open(filepath,'r') as file:\n",
    "    text=file.read()"
   ]
  },
  {
   "cell_type": "code",
   "execution_count": 127,
   "metadata": {},
   "outputs": [
    {
     "data": {
      "text/plain": [
       "'The term machine learning was coined in 1959 by Arthur Samuel, an IBM employee and pioneer in the field of computer gaming and artificial intelligence.[9][10] The synonym self-teaching computers was also used in this time period.[11][12]\\n\\nAlthough the earliest machine learning model was introduced in the 1950s when Arthur Samuel invented a program that calculated the winning chance in checkers for each side, the history of machine learning roots back to decades of human desire and effort to study human cognitive processes.[13] In 1949, Canadian psychologist Donald Hebb published the book The Organization of Behavior, in which he introduced a theoretical neural structure formed by certain interactions among nerve cells.[14] Hebb\\'s model of neurons interacting with one another set a groundwork for how AIs and machine learning algorithms work under nodes, or artificial neurons used by computers to communicate data.[13] Other researchers who have studied human cognitive systems contributed to the modern machine learning technologies as well, including logician Walter Pitts and Warren McCulloch, who proposed the early mathematical models of neural networks to come up with algorithms that mirror human thought processes.[13]\\n\\nBy the early 1960s an experimental \"learning machine\" with punched tape memory, called Cybertron, had been developed by Raytheon Company to analyze sonar signals, electrocardiograms, and speech patterns using rudimentary reinforcement learning. It was repetitively \"trained\" by a human operator/teacher to recognize patterns and equipped with a \"goof\" button to cause it to re-evaluate incorrect decisions.[15] A representative book on research into machine learning during the 1960s was Nilsson\\'s book on Learning Machines, dealing mostly with machine learning for pattern classification.[16] Interest related to pattern recognition continued into the 1970s, as described by Duda and Hart in 1973.[17] In 1981 a report was given on using teaching strategies so that an artificial neural network learns to recognize 40 characters (26 letters, 10 digits, and 4 special symbols) from a computer terminal.[18]'"
      ]
     },
     "execution_count": 127,
     "metadata": {},
     "output_type": "execute_result"
    }
   ],
   "source": [
    "text"
   ]
  },
  {
   "cell_type": "code",
   "execution_count": 128,
   "metadata": {},
   "outputs": [
    {
     "name": "stdout",
     "output_type": "stream",
     "text": [
      "\n",
      "\n",
      "\u001b[1m> Entering new SequentialChain chain...\u001b[0m\n",
      "\n",
      "\n",
      "\u001b[1m> Entering new LLMChain chain...\u001b[0m\n",
      "Prompt after formatting:\n",
      "\u001b[32;1m\u001b[1;3m\n",
      "Text:The term machine learning was coined in 1959 by Arthur Samuel, an IBM employee and pioneer in the field of computer gaming and artificial intelligence.[9][10] The synonym self-teaching computers was also used in this time period.[11][12]\n",
      "\n",
      "Although the earliest machine learning model was introduced in the 1950s when Arthur Samuel invented a program that calculated the winning chance in checkers for each side, the history of machine learning roots back to decades of human desire and effort to study human cognitive processes.[13] In 1949, Canadian psychologist Donald Hebb published the book The Organization of Behavior, in which he introduced a theoretical neural structure formed by certain interactions among nerve cells.[14] Hebb's model of neurons interacting with one another set a groundwork for how AIs and machine learning algorithms work under nodes, or artificial neurons used by computers to communicate data.[13] Other researchers who have studied human cognitive systems contributed to the modern machine learning technologies as well, including logician Walter Pitts and Warren McCulloch, who proposed the early mathematical models of neural networks to come up with algorithms that mirror human thought processes.[13]\n",
      "\n",
      "By the early 1960s an experimental \"learning machine\" with punched tape memory, called Cybertron, had been developed by Raytheon Company to analyze sonar signals, electrocardiograms, and speech patterns using rudimentary reinforcement learning. It was repetitively \"trained\" by a human operator/teacher to recognize patterns and equipped with a \"goof\" button to cause it to re-evaluate incorrect decisions.[15] A representative book on research into machine learning during the 1960s was Nilsson's book on Learning Machines, dealing mostly with machine learning for pattern classification.[16] Interest related to pattern recognition continued into the 1970s, as described by Duda and Hart in 1973.[17] In 1981 a report was given on using teaching strategies so that an artificial neural network learns to recognize 40 characters (26 letters, 10 digits, and 4 special symbols) from a computer terminal.[18]\n",
      "You are an expert MCQ maker.Given the above text,it is your job to create a quiz of 4 multiple choice questions for machine learning students in simple tone.\n",
      "Make sure the questions are not repeated and check all the questions to be conforming he text as well.\n",
      "make sure to format your response like RESONSE_JSON below and use it as a guide.Ensure to make 4 MCQs.\n",
      "###Response Json\n",
      "{\"1\": {\"mcq\": \"multiple choice questions\", \"options\": {\"a\": \"choice here\", \"b\": \"choice here\", \"c\": \"choice here\", \"d\": \"choice here\"}, \"correct\": \"correct answer\"}, \"2\": {\"mcq\": \"multiple choice questions\", \"options\": {\"a\": \"choice here\", \"b\": \"choice here\", \"c\": \"choice here\", \"d\": \"choice here\"}, \"correct\": \"correct answer\"}, \"3\": {\"mcq\": \"multiple choice questions\", \"options\": {\"a\": \"choice here\", \"b\": \"choice here\", \"c\": \"choice here\", \"d\": \"choice here\"}, \"correct\": \"correct answer\"}, \"4\": {\"mcq\": \"multiple choice questions\", \"options\": {\"a\": \"choice here\", \"b\": \"choice here\", \"c\": \"choice here\", \"d\": \"choice here\"}, \"correct\": \"correct answer\"}}    \u001b[0m\n",
      "\n",
      "\u001b[1m> Finished chain.\u001b[0m\n",
      "\n",
      "\n",
      "\u001b[1m> Entering new LLMChain chain...\u001b[0m\n",
      "Prompt after formatting:\n",
      "\u001b[32;1m\u001b[1;3m\n",
      "You are an expert english grammarian and writer .Given a multiple choice Quiz for machine learning students.You need to evaluate the complexity of the question and give a complete analysis of the quiz.Only use at max 50 words for complexity.\n",
      "if the quiz is not at per with the cognitive and analytical abilities of the students ,update the quiz questions which needs to be changed  and change the tone such that it perfectly fits the student abilities\n",
      "Quiz_MCQs:\n",
      "Here are the 4 MCQs for machine learning students:\n",
      "\n",
      "{\n",
      "\"1\": {\n",
      "\"mcq\": \"Who coined the term 'machine learning' in 1959?\",\n",
      "\"options\": {\"a\": \"Arthur Samuel\", \"b\": \"Donald Hebb\", \"c\": \"Walter Pitts\", \"d\": \"Warren McCulloch\"},\n",
      "\"correct\": \"a\"\n",
      "},\n",
      "\"2\": {\n",
      "\"mcq\": \"What was the name of the early machine learning model introduced in the 1950s?\",\n",
      "\"options\": {\"a\": \"Cybertron\", \"b\": \"Learning Machines\", \"c\": \"Checkers Program\", \"d\": \"Neural Network\"},\n",
      "\"correct\": \"c\"\n",
      "},\n",
      "\"3\": {\n",
      "\"mcq\": \"Who proposed early mathematical models of neural networks to mimic human thought processes?\",\n",
      "\"options\": {\"a\": \"Donald Hebb\", \"b\": \"Walter Pitts and Warren McCulloch\", \"c\": \"Arthur Samuel\", \"d\": \"Raytheon Company\"},\n",
      "\"correct\": \"b\"\n",
      "},\n",
      "\"4\": {\n",
      "\"mcq\": \"What was the purpose of the 'goof' button in the Cybertron machine learning model?\",\n",
      "\"options\": {\"a\": \"To re-evaluate incorrect decisions\", \"b\": \"To recognize patterns\", \"c\": \"To analyze sonar signals\", \"d\": \"To train the algorithm\"},\n",
      "\"correct\": \"a\"\n",
      "}\n",
      "}\n",
      "check from an expert Engish Writer of the above quiz \u001b[0m\n",
      "\n",
      "\u001b[1m> Finished chain.\u001b[0m\n",
      "\n",
      "\u001b[1m> Finished chain.\u001b[0m\n"
     ]
    }
   ],
   "source": [
    "response=generate_evalaute_chain({\n",
    "    'text':text,\n",
    "    'number':4,\n",
    "    'subject':'machine learning',\n",
    "    'tone':'simple',\n",
    "    'response_json':json.dumps(response_json)\n",
    "})"
   ]
  },
  {
   "cell_type": "code",
   "execution_count": 130,
   "metadata": {},
   "outputs": [
    {
     "data": {
      "text/plain": [
       "{'text': 'The term machine learning was coined in 1959 by Arthur Samuel, an IBM employee and pioneer in the field of computer gaming and artificial intelligence.[9][10] The synonym self-teaching computers was also used in this time period.[11][12]\\n\\nAlthough the earliest machine learning model was introduced in the 1950s when Arthur Samuel invented a program that calculated the winning chance in checkers for each side, the history of machine learning roots back to decades of human desire and effort to study human cognitive processes.[13] In 1949, Canadian psychologist Donald Hebb published the book The Organization of Behavior, in which he introduced a theoretical neural structure formed by certain interactions among nerve cells.[14] Hebb\\'s model of neurons interacting with one another set a groundwork for how AIs and machine learning algorithms work under nodes, or artificial neurons used by computers to communicate data.[13] Other researchers who have studied human cognitive systems contributed to the modern machine learning technologies as well, including logician Walter Pitts and Warren McCulloch, who proposed the early mathematical models of neural networks to come up with algorithms that mirror human thought processes.[13]\\n\\nBy the early 1960s an experimental \"learning machine\" with punched tape memory, called Cybertron, had been developed by Raytheon Company to analyze sonar signals, electrocardiograms, and speech patterns using rudimentary reinforcement learning. It was repetitively \"trained\" by a human operator/teacher to recognize patterns and equipped with a \"goof\" button to cause it to re-evaluate incorrect decisions.[15] A representative book on research into machine learning during the 1960s was Nilsson\\'s book on Learning Machines, dealing mostly with machine learning for pattern classification.[16] Interest related to pattern recognition continued into the 1970s, as described by Duda and Hart in 1973.[17] In 1981 a report was given on using teaching strategies so that an artificial neural network learns to recognize 40 characters (26 letters, 10 digits, and 4 special symbols) from a computer terminal.[18]',\n",
       " 'number': 4,\n",
       " 'subject': 'machine learning',\n",
       " 'tone': 'simple',\n",
       " 'response_json': '{\"1\": {\"mcq\": \"multiple choice questions\", \"options\": {\"a\": \"choice here\", \"b\": \"choice here\", \"c\": \"choice here\", \"d\": \"choice here\"}, \"correct\": \"correct answer\"}, \"2\": {\"mcq\": \"multiple choice questions\", \"options\": {\"a\": \"choice here\", \"b\": \"choice here\", \"c\": \"choice here\", \"d\": \"choice here\"}, \"correct\": \"correct answer\"}, \"3\": {\"mcq\": \"multiple choice questions\", \"options\": {\"a\": \"choice here\", \"b\": \"choice here\", \"c\": \"choice here\", \"d\": \"choice here\"}, \"correct\": \"correct answer\"}, \"4\": {\"mcq\": \"multiple choice questions\", \"options\": {\"a\": \"choice here\", \"b\": \"choice here\", \"c\": \"choice here\", \"d\": \"choice here\"}, \"correct\": \"correct answer\"}}',\n",
       " 'quiz': 'Here are the 4 MCQs for machine learning students:\\n\\n{\\n\"1\": {\\n\"mcq\": \"Who coined the term \\'machine learning\\' in 1959?\",\\n\"options\": {\"a\": \"Arthur Samuel\", \"b\": \"Donald Hebb\", \"c\": \"Walter Pitts\", \"d\": \"Warren McCulloch\"},\\n\"correct\": \"a\"\\n},\\n\"2\": {\\n\"mcq\": \"What was the name of the early machine learning model introduced in the 1950s?\",\\n\"options\": {\"a\": \"Cybertron\", \"b\": \"Learning Machines\", \"c\": \"Checkers Program\", \"d\": \"Neural Network\"},\\n\"correct\": \"c\"\\n},\\n\"3\": {\\n\"mcq\": \"Who proposed early mathematical models of neural networks to mimic human thought processes?\",\\n\"options\": {\"a\": \"Donald Hebb\", \"b\": \"Walter Pitts and Warren McCulloch\", \"c\": \"Arthur Samuel\", \"d\": \"Raytheon Company\"},\\n\"correct\": \"b\"\\n},\\n\"4\": {\\n\"mcq\": \"What was the purpose of the \\'goof\\' button in the Cybertron machine learning model?\",\\n\"options\": {\"a\": \"To re-evaluate incorrect decisions\", \"b\": \"To recognize patterns\", \"c\": \"To analyze sonar signals\", \"d\": \"To train the algorithm\"},\\n\"correct\": \"a\"\\n}\\n}',\n",
       " 'review': '**Complexity Analysis:** (Score: 7/10)\\n\\nThe quiz seems to be designed for machine learning students, but some questions may not be challenging enough. The language is clear and concise, making it easy to understand. However, the vocabulary used is not overly technical or specific to machine learning, which might make it too easy for advanced students.\\n\\n**Recommendations:**\\n\\n1. Questions 2 and 4 could be rephrased to require more in-depth knowledge of machine learning concepts.\\n2. Consider adding more options with distractor answers that are plausible but incorrect, making the quiz more challenging.\\n3. To increase complexity, consider introducing more abstract or scenario-based questions that require critical thinking.\\n\\n**Tone Analysis:** (Score: 8/10)\\n\\nThe tone is informative and neutral, which suits the subject matter. However, to better engage machine learning students, consider adding a touch of enthusiasm and curiosity to the questions.\\n\\nHere\\'s an updated version of question 2:\\n\\n\"Early machine learning models were often inspired by human problem-solving strategies. What type of game was used as a benchmark for evaluating the performance of early machine learning algorithms in the 1950s?\"\\n\\nThis revised question requires more analytical thinking and is more engaging for machine learning students.\\n\\nPlease let me know if you would like me to review any specific questions or provide further suggestions!'}"
      ]
     },
     "execution_count": 130,
     "metadata": {},
     "output_type": "execute_result"
    }
   ],
   "source": [
    "response"
   ]
  },
  {
   "cell_type": "code",
   "execution_count": 101,
   "metadata": {},
   "outputs": [],
   "source": [
    "quiz=response.get('quiz')"
   ]
  },
  {
   "cell_type": "code",
   "execution_count": 102,
   "metadata": {},
   "outputs": [
    {
     "data": {
      "text/plain": [
       "'Here is the response in JSON format:\\n\\n{\"1\":{\"mcq\":\"Who coined the term \\'machine learning\\' in 1959?\",\"options\":{\"a\":\"Arthur Samuel an IBM employee\",\"b\":\"Donald Hebb a Canadian psychologist\",\"c\":\"Walter Pitts a logician\",\"d\":\"Warren McCulloch a researcher\"},\"correct\":\"a\"},\\n\"2\":{\"mcq\":\"What was the focus of Arthur Samuel\\'s early machine learning model in the 1950s?\",\"options\":{\"a\":\"Analyzing sonar signals and speech patterns\",\"b\":\"Calculating winning chances in checkers\",\"c\":\"Studying human cognitive processes\",\"d\":\"Developing algorithms for neural networks\"},\"correct\":\"b\"},\\n\"3\":{\"mcq\":\"What was the name of the experimental \\'learning machine\\' developed by Raytheon Company in the early 1960s?\",\"options\":{\"a\":\"Cybertron\",\"b\":\"Learning Machines\",\"c\":\"Pattern Recognizer\",\"d\":\"Neural Network\"},\"correct\":\"a\"},\\n\"4\":{\"mcq\":\"In what year did a report give details on using teaching strategies to train an artificial neural network to recognize characters from a computer terminal?\",\"options\":{\"a\":\"1973\",\"b\":\"1981\",\"c\":\"1969\",\"d\":\"1959\"},\"correct\":\"b\"}}'"
      ]
     },
     "execution_count": 102,
     "metadata": {},
     "output_type": "execute_result"
    }
   ],
   "source": [
    "quiz"
   ]
  },
  {
   "cell_type": "code",
   "execution_count": 104,
   "metadata": {},
   "outputs": [
    {
     "name": "stdout",
     "output_type": "stream",
     "text": [
      "Here is the response in JSON format:\n",
      "\n",
      "{\"1\":{\"mcq\":\"Who coined the term 'machine learning' in 1959?\",\"options\":{\"a\":\"Arthur Samuel an IBM employee\",\"b\":\"Donald Hebb a Canadian psychologist\",\"c\":\"Walter Pitts a logician\",\"d\":\"Warren McCulloch a researcher\"},\"correct\":\"a\"},\n",
      "\"2\":{\"mcq\":\"What was the focus of Arthur Samuel's early machine learning model in the 1950s?\",\"options\":{\"a\":\"Analyzing sonar signals and speech patterns\",\"b\":\"Calculating winning chances in checkers\",\"c\":\"Studying human cognitive processes\",\"d\":\"Developing algorithms for neural networks\"},\"correct\":\"b\"},\n",
      "\"3\":{\"mcq\":\"What was the name of the experimental 'learning machine' developed by Raytheon Company in the early 1960s?\",\"options\":{\"a\":\"Cybertron\",\"b\":\"Learning Machines\",\"c\":\"Pattern Recognizer\",\"d\":\"Neural Network\"},\"correct\":\"a\"},\n",
      "\"4\":{\"mcq\":\"In what year did a report give details on using teaching strategies to train an artificial neural network to recognize characters from a computer terminal?\",\"options\":{\"a\":\"1973\",\"b\":\"1981\",\"c\":\"1969\",\"d\":\"1959\"},\"correct\":\"b\"}}\n"
     ]
    }
   ],
   "source": [
    "print(quiz)"
   ]
  },
  {
   "cell_type": "code",
   "execution_count": 105,
   "metadata": {},
   "outputs": [
    {
     "name": "stdout",
     "output_type": "stream",
     "text": [
      "Here is the response in JSON format:\n",
      "\n",
      "{\"1\":{\"mcq\":\"Who coined the term 'machine learning' in 1959?\",\"options\":{\"a\":\"Arthur Samuel an IBM employee\",\"b\":\"Donald Hebb a Canadian psychologist\",\"c\":\"Walter Pitts a logician\",\"d\":\"Warren McCulloch a researcher\"},\"correct\":\"a\"},\n",
      "\"2\":{\"mcq\":\"What was the focus of Arthur Samuel's early machine learning model in the 1950s?\",\"options\":{\"a\":\"Analyzing sonar signals and speech patterns\",\"b\":\"Calculating winning chances in checkers\",\"c\":\"Studying human cognitive processes\",\"d\":\"Developing algorithms for neural networks\"},\"correct\":\"b\"},\n",
      "\"3\":{\"mcq\":\"What was the name of the experimental 'learning machine' developed by Raytheon Company in the early 1960s?\",\"options\":{\"a\":\"Cybertron\",\"b\":\"Learning Machines\",\"c\":\"Pattern Recognizer\",\"d\":\"Neural Network\"},\"correct\":\"a\"},\n",
      "\"4\":{\"mcq\":\"In what year did a report give details on using teaching strategies to train an artificial neural network to recognize characters from a computer terminal?\",\"options\":{\"a\":\"1973\",\"b\":\"1981\",\"c\":\"1969\",\"d\":\"1959\"},\"correct\":\"b\"}}\n"
     ]
    }
   ],
   "source": [
    "print(quiz)"
   ]
  },
  {
   "cell_type": "code",
   "execution_count": 93,
   "metadata": {},
   "outputs": [],
   "source": []
  },
  {
   "cell_type": "code",
   "execution_count": 106,
   "metadata": {},
   "outputs": [
    {
     "name": "stdout",
     "output_type": "stream",
     "text": [
      "Here is the response in JSON format:\n",
      "\n",
      "{\"1\":{\"mcq\":\"Who coined the term 'machine learning' in 1959?\",\"options\":{\"a\":\"Arthur Samuel an IBM employee\",\"b\":\"Donald Hebb a Canadian psychologist\",\"c\":\"Walter Pitts a logician\",\"d\":\"Warren McCulloch a researcher\"},\"correct\":\"a\"},\n",
      "\"2\":{\"mcq\":\"What was the focus of Arthur Samuel's early machine learning model in the 1950s?\",\"options\":{\"a\":\"Analyzing sonar signals and speech patterns\",\"b\":\"Calculating winning chances in checkers\",\"c\":\"Studying human cognitive processes\",\"d\":\"Developing algorithms for neural networks\"},\"correct\":\"b\"},\n",
      "\"3\":{\"mcq\":\"What was the name of the experimental 'learning machine' developed by Raytheon Company in the early 1960s?\",\"options\":{\"a\":\"Cybertron\",\"b\":\"Learning Machines\",\"c\":\"Pattern Recognizer\",\"d\":\"Neural Network\"},\"correct\":\"a\"},\n",
      "\"4\":{\"mcq\":\"In what year did a report give details on using teaching strategies to train an artificial neural network to recognize characters from a computer terminal?\",\"options\":{\"a\":\"1973\",\"b\":\"1981\",\"c\":\"1969\",\"d\":\"1959\"},\"correct\":\"b\"}}\n"
     ]
    }
   ],
   "source": [
    "print(quiz)"
   ]
  },
  {
   "cell_type": "code",
   "execution_count": 97,
   "metadata": {},
   "outputs": [
    {
     "data": {
      "text/plain": [
       "str"
      ]
     },
     "execution_count": 97,
     "metadata": {},
     "output_type": "execute_result"
    }
   ],
   "source": [
    "type(quiz)"
   ]
  },
  {
   "cell_type": "code",
   "execution_count": 108,
   "metadata": {},
   "outputs": [],
   "source": [
    "quiz=quiz.replace('Here is the response in JSON format:',\"\")"
   ]
  },
  {
   "cell_type": "code",
   "execution_count": 109,
   "metadata": {},
   "outputs": [
    {
     "name": "stdout",
     "output_type": "stream",
     "text": [
      "\n",
      "\n",
      "{\"1\":{\"mcq\":\"Who coined the term 'machine learning' in 1959?\",\"options\":{\"a\":\"Arthur Samuel an IBM employee\",\"b\":\"Donald Hebb a Canadian psychologist\",\"c\":\"Walter Pitts a logician\",\"d\":\"Warren McCulloch a researcher\"},\"correct\":\"a\"},\n",
      "\"2\":{\"mcq\":\"What was the focus of Arthur Samuel's early machine learning model in the 1950s?\",\"options\":{\"a\":\"Analyzing sonar signals and speech patterns\",\"b\":\"Calculating winning chances in checkers\",\"c\":\"Studying human cognitive processes\",\"d\":\"Developing algorithms for neural networks\"},\"correct\":\"b\"},\n",
      "\"3\":{\"mcq\":\"What was the name of the experimental 'learning machine' developed by Raytheon Company in the early 1960s?\",\"options\":{\"a\":\"Cybertron\",\"b\":\"Learning Machines\",\"c\":\"Pattern Recognizer\",\"d\":\"Neural Network\"},\"correct\":\"a\"},\n",
      "\"4\":{\"mcq\":\"In what year did a report give details on using teaching strategies to train an artificial neural network to recognize characters from a computer terminal?\",\"options\":{\"a\":\"1973\",\"b\":\"1981\",\"c\":\"1969\",\"d\":\"1959\"},\"correct\":\"b\"}}\n"
     ]
    }
   ],
   "source": [
    "print(quiz)"
   ]
  },
  {
   "cell_type": "code",
   "execution_count": 110,
   "metadata": {},
   "outputs": [
    {
     "data": {
      "text/plain": [
       "str"
      ]
     },
     "execution_count": 110,
     "metadata": {},
     "output_type": "execute_result"
    }
   ],
   "source": [
    "type(quiz)"
   ]
  },
  {
   "cell_type": "code",
   "execution_count": 111,
   "metadata": {},
   "outputs": [
    {
     "data": {
      "text/plain": [
       "{'1': {'mcq': \"Who coined the term 'machine learning' in 1959?\",\n",
       "  'options': {'a': 'Arthur Samuel an IBM employee',\n",
       "   'b': 'Donald Hebb a Canadian psychologist',\n",
       "   'c': 'Walter Pitts a logician',\n",
       "   'd': 'Warren McCulloch a researcher'},\n",
       "  'correct': 'a'},\n",
       " '2': {'mcq': \"What was the focus of Arthur Samuel's early machine learning model in the 1950s?\",\n",
       "  'options': {'a': 'Analyzing sonar signals and speech patterns',\n",
       "   'b': 'Calculating winning chances in checkers',\n",
       "   'c': 'Studying human cognitive processes',\n",
       "   'd': 'Developing algorithms for neural networks'},\n",
       "  'correct': 'b'},\n",
       " '3': {'mcq': \"What was the name of the experimental 'learning machine' developed by Raytheon Company in the early 1960s?\",\n",
       "  'options': {'a': 'Cybertron',\n",
       "   'b': 'Learning Machines',\n",
       "   'c': 'Pattern Recognizer',\n",
       "   'd': 'Neural Network'},\n",
       "  'correct': 'a'},\n",
       " '4': {'mcq': 'In what year did a report give details on using teaching strategies to train an artificial neural network to recognize characters from a computer terminal?',\n",
       "  'options': {'a': '1973', 'b': '1981', 'c': '1969', 'd': '1959'},\n",
       "  'correct': 'b'}}"
      ]
     },
     "execution_count": 111,
     "metadata": {},
     "output_type": "execute_result"
    }
   ],
   "source": [
    "json.loads(quiz)"
   ]
  },
  {
   "cell_type": "code",
   "execution_count": 115,
   "metadata": {},
   "outputs": [],
   "source": [
    "quiz=json.loads(quiz)"
   ]
  },
  {
   "cell_type": "code",
   "execution_count": 116,
   "metadata": {},
   "outputs": [
    {
     "data": {
      "text/plain": [
       "dict"
      ]
     },
     "execution_count": 116,
     "metadata": {},
     "output_type": "execute_result"
    }
   ],
   "source": [
    "type(quiz)"
   ]
  },
  {
   "cell_type": "code",
   "execution_count": 129,
   "metadata": {},
   "outputs": [
    {
     "data": {
      "text/plain": [
       "{'1': {'mcq': \"Who coined the term 'machine learning' in 1959?\",\n",
       "  'options': {'a': 'Arthur Samuel an IBM employee',\n",
       "   'b': 'Donald Hebb a Canadian psychologist',\n",
       "   'c': 'Walter Pitts a logician',\n",
       "   'd': 'Warren McCulloch a researcher'},\n",
       "  'correct': 'a'},\n",
       " '2': {'mcq': \"What was the focus of Arthur Samuel's early machine learning model in the 1950s?\",\n",
       "  'options': {'a': 'Analyzing sonar signals and speech patterns',\n",
       "   'b': 'Calculating winning chances in checkers',\n",
       "   'c': 'Studying human cognitive processes',\n",
       "   'd': 'Developing algorithms for neural networks'},\n",
       "  'correct': 'b'},\n",
       " '3': {'mcq': \"What was the name of the experimental 'learning machine' developed by Raytheon Company in the early 1960s?\",\n",
       "  'options': {'a': 'Cybertron',\n",
       "   'b': 'Learning Machines',\n",
       "   'c': 'Pattern Recognizer',\n",
       "   'd': 'Neural Network'},\n",
       "  'correct': 'a'},\n",
       " '4': {'mcq': 'In what year did a report give details on using teaching strategies to train an artificial neural network to recognize characters from a computer terminal?',\n",
       "  'options': {'a': '1973', 'b': '1981', 'c': '1969', 'd': '1959'},\n",
       "  'correct': 'b'}}"
      ]
     },
     "execution_count": 129,
     "metadata": {},
     "output_type": "execute_result"
    }
   ],
   "source": [
    "quiz"
   ]
  },
  {
   "cell_type": "code",
   "execution_count": 135,
   "metadata": {},
   "outputs": [],
   "source": [
    "list_of_quiz=[]\n",
    "for key,values in quiz.items():\n",
    "    mcq=values['mcq']\n",
    "    options='|'.join([\n",
    "        f'{option}:{option_value}' for option,option_value in values['options'].items()\n",
    "\n",
    "    ])\n",
    "    correct=values['correct']\n",
    "    list_of_quiz.append({'MCQ':mcq,'Choices':options,'Correct':correct})"
   ]
  },
  {
   "cell_type": "code",
   "execution_count": 136,
   "metadata": {},
   "outputs": [
    {
     "data": {
      "text/plain": [
       "[{'MCQ': \"Who coined the term 'machine learning' in 1959?\",\n",
       "  'Choices': 'a:Arthur Samuel an IBM employee|b:Donald Hebb a Canadian psychologist|c:Walter Pitts a logician|d:Warren McCulloch a researcher',\n",
       "  'Correct': 'a'},\n",
       " {'MCQ': \"What was the focus of Arthur Samuel's early machine learning model in the 1950s?\",\n",
       "  'Choices': 'a:Analyzing sonar signals and speech patterns|b:Calculating winning chances in checkers|c:Studying human cognitive processes|d:Developing algorithms for neural networks',\n",
       "  'Correct': 'b'},\n",
       " {'MCQ': \"What was the name of the experimental 'learning machine' developed by Raytheon Company in the early 1960s?\",\n",
       "  'Choices': 'a:Cybertron|b:Learning Machines|c:Pattern Recognizer|d:Neural Network',\n",
       "  'Correct': 'a'},\n",
       " {'MCQ': 'In what year did a report give details on using teaching strategies to train an artificial neural network to recognize characters from a computer terminal?',\n",
       "  'Choices': 'a:1973|b:1981|c:1969|d:1959',\n",
       "  'Correct': 'b'}]"
      ]
     },
     "execution_count": 136,
     "metadata": {},
     "output_type": "execute_result"
    }
   ],
   "source": [
    "list_of_quiz"
   ]
  },
  {
   "cell_type": "code",
   "execution_count": null,
   "metadata": {},
   "outputs": [],
   "source": []
  }
 ],
 "metadata": {
  "kernelspec": {
   "display_name": "Python 3",
   "language": "python",
   "name": "python3"
  },
  "language_info": {
   "codemirror_mode": {
    "name": "ipython",
    "version": 3
   },
   "file_extension": ".py",
   "mimetype": "text/x-python",
   "name": "python",
   "nbconvert_exporter": "python",
   "pygments_lexer": "ipython3",
   "version": "3.11.4"
  }
 },
 "nbformat": 4,
 "nbformat_minor": 2
}
