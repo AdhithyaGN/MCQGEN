{
 "cells": [
  {
   "cell_type": "code",
   "execution_count": 1,
   "metadata": {},
   "outputs": [],
   "source": [
    "from langchain_community.document_loaders import TextLoader\n",
    "from langchain_community.document_loaders import PyPDFLoader\n"
   ]
  },
  {
   "cell_type": "code",
   "execution_count": 2,
   "metadata": {},
   "outputs": [],
   "source": [
    "doc=PyPDFLoader('data.pdf')"
   ]
  },
  {
   "cell_type": "code",
   "execution_count": 3,
   "metadata": {},
   "outputs": [],
   "source": [
    "doc=doc.load()"
   ]
  },
  {
   "cell_type": "code",
   "execution_count": 4,
   "metadata": {},
   "outputs": [
    {
     "data": {
      "text/plain": [
       "[Document(page_content='The term machine learning was coined in 1959 by Arthur Samuel, an IBM employee and pioneer in the \\nfield of computer gaming and artificial intelligence.[9][10] The synonym self-teaching computers was also \\nused in this time period.[11][12]  \\n  \\nAlthough the earliest machine learning model was introduced in the 1950s when Arthur Samuel invented \\na program that calculated the winning chance in checkers for each side, the history of machine learning \\nroots back to decades of human desire and effort to study human cognitive processes.[13] In 1949, \\nCanadian psychologist Donald Hebb published the book The Organization of Behavior, in which he \\nintroduced a theoretical neural structure formed by certain interactions among nerve cells.[14] Hebb\\'s \\nmodel of neurons interacting with one another set a groundwork for how AIs and machine learning \\nalgorithms work under nodes, or artificial neurons used by computers to communicate data.[13] Other \\nresearchers who have studied human cognitive systems contributed to the modern machine learning \\ntechnologies as well, including logician Walter Pitts and Warren McCulloch, who proposed the early \\nmathematical models of neural networks to come up with algorithms that mirror human thought \\nprocesses.[13]  \\n  \\nBy the early 1960s an experimental \"learning machine\" with punched tape memory, called Cybertron, had\\nbeen developed by Raytheon Company to analyze sonar signals, electrocardiograms, and speech \\npatterns using rudimentary reinforcement learning. It was repetitively \"trained\" by a human \\noperator/teacher to recognize patterns and equipped with a \"goof\" button to cause it to re-evaluate \\nincorrect decisions.[15] A representative book on research into machine learning during the 1960s was \\nNilsson\\'s book on Learning Machines, dealing mostly with machine learning for pattern classification.[16] \\nInterest related to pattern recognition continued into the 1970s, as described by Duda and Hart in \\n1973.[17] In 1981 a report was given on using teaching strategies so that an artificial neural network \\nlearns to recognize 40 characters (26 letters, 10 digits, and 4 special symbols) from a computer \\nterminal.[18]', metadata={'source': 'data.pdf', 'page': 0})]"
      ]
     },
     "execution_count": 4,
     "metadata": {},
     "output_type": "execute_result"
    }
   ],
   "source": [
    "doc"
   ]
  },
  {
   "cell_type": "code",
   "execution_count": 5,
   "metadata": {},
   "outputs": [],
   "source": [
    "from langchain_community.llms import Ollama"
   ]
  },
  {
   "cell_type": "code",
   "execution_count": 6,
   "metadata": {},
   "outputs": [],
   "source": [
    "from langchain.prompts import PromptTemplate"
   ]
  },
  {
   "cell_type": "code",
   "execution_count": 7,
   "metadata": {},
   "outputs": [],
   "source": [
    "from langchain.chains import LLMChain"
   ]
  },
  {
   "cell_type": "code",
   "execution_count": 8,
   "metadata": {},
   "outputs": [],
   "source": [
    "from langchain.chains.sequential import SequentialChain"
   ]
  },
  {
   "cell_type": "code",
   "execution_count": 9,
   "metadata": {},
   "outputs": [],
   "source": [
    "response_json={\n",
    "    \"1\":{\n",
    "        \"mcq\":\"multiple choice questions\",\n",
    "        \"options\":{\n",
    "            \"a\":\"choice here\",\n",
    "            \"b\":\"choice here\",\n",
    "            \"c\":\"choice here\",\n",
    "            \"d\":\"choice here\"\n",
    "        },\n",
    "        \"correct\":\"correct answer\"\n",
    "    },\n",
    "    \"2\":{\n",
    "        \"mcq\":\"multiple choice questions\",\n",
    "        \"options\":{\n",
    "            \"a\":\"choice here\",\n",
    "            \"b\":\"choice here\",\n",
    "            \"c\":\"choice here\",\n",
    "            \"d\":\"choice here\"\n",
    "        },\n",
    "        \"correct\":\"correct answer\"\n",
    "    },\n",
    "    \"3\":{\n",
    "        \"mcq\":\"multiple choice questions\",\n",
    "        \"options\":{\n",
    "            \"a\":\"choice here\",\n",
    "            \"b\":\"choice here\",\n",
    "            \"c\":\"choice here\",\n",
    "            \"d\":\"choice here\"\n",
    "        },\n",
    "        \"correct\":\"correct answer\"\n",
    "    },\n",
    "     \"4\":{\n",
    "        \"mcq\":\"multiple choice questions\",\n",
    "        \"options\":{\n",
    "            \"a\":\"choice here\",\n",
    "            \"b\":\"choice here\",\n",
    "            \"c\":\"choice here\",\n",
    "            \"d\":\"choice here\"\n",
    "        },\n",
    "        \"correct\":\"correct answer\"\n",
    "    }\n",
    "\n",
    "}"
   ]
  },
  {
   "cell_type": "code",
   "execution_count": 10,
   "metadata": {},
   "outputs": [],
   "source": [
    "llm=Ollama(model='llama3')"
   ]
  },
  {
   "cell_type": "code",
   "execution_count": 11,
   "metadata": {},
   "outputs": [],
   "source": [
    "template1=\"\"\"\n",
    "Text:{text}\n",
    "You are an expert MCQ maker.Given the above text,it is your job to \\\n",
    "create a quiz of {number} multiple choice questions for {subject} students in {tone} tone.\n",
    "Make sure the questions are not repeated and check all the questions to be conforming he text as well.\n",
    "make sure to format your response like RESONSE_JSON below and use it as a guide.\\\n",
    "Ensure to make {number} MCQs.\n",
    "###Response Json\n",
    "{response_json}    \"\"\""
   ]
  },
  {
   "cell_type": "code",
   "execution_count": 12,
   "metadata": {},
   "outputs": [],
   "source": [
    "quiz_generation_prompt=PromptTemplate(input_variables=['text','number','subject','tone','response_json'],template=template1)"
   ]
  },
  {
   "cell_type": "code",
   "execution_count": 13,
   "metadata": {},
   "outputs": [],
   "source": [
    "chain1=LLMChain(llm=llm,prompt=quiz_generation_prompt,output_key='quiz',verbose=True)"
   ]
  },
  {
   "cell_type": "code",
   "execution_count": 15,
   "metadata": {},
   "outputs": [],
   "source": [
    "template2=\"\"\"\n",
    "You are an expert english grammarian and writer .Given a multiple choice Quiz for {subject} students.\\\n",
    "You need to evaluate the complexity of the question and give a complete analysis of the quiz.Only use at max 50 words for complexity.\n",
    "if the quiz is not at per with the cognitive and analytical abilities of the students ,\\\n",
    "update the quiz questions which needs to be changed  and change the tone such that it perfectly fits the student abilities\n",
    "Quiz_MCQs:\n",
    "{quiz}\n",
    "check from an expert Engish Writer of the above quiz \"\"\""
   ]
  },
  {
   "cell_type": "code",
   "execution_count": 16,
   "metadata": {},
   "outputs": [],
   "source": [
    "quiz_evaluation_prompt=PromptTemplate(input_variables=['subject','quiz'],template=template2)"
   ]
  },
  {
   "cell_type": "code",
   "execution_count": 18,
   "metadata": {},
   "outputs": [],
   "source": [
    "chain2=LLMChain(llm=llm,prompt=quiz_evaluation_prompt,output_key='review',verbose=True)"
   ]
  },
  {
   "cell_type": "code",
   "execution_count": 19,
   "metadata": {},
   "outputs": [],
   "source": [
    "generate_evalaute_chain=SequentialChain(chains=[chain1,chain2],input_variables=['text','number','subject','tone','response_json'],output_variables=['quiz','review'],verbose=True)"
   ]
  },
  {
   "cell_type": "code",
   "execution_count": 20,
   "metadata": {},
   "outputs": [],
   "source": [
    "import json"
   ]
  },
  {
   "cell_type": "code",
   "execution_count": 21,
   "metadata": {},
   "outputs": [
    {
     "name": "stderr",
     "output_type": "stream",
     "text": [
      "C:\\Users\\S K E F\\AppData\\Roaming\\Python\\Python311\\site-packages\\langchain_core\\_api\\deprecation.py:119: LangChainDeprecationWarning: The method `Chain.__call__` was deprecated in langchain 0.1.0 and will be removed in 0.3.0. Use invoke instead.\n",
      "  warn_deprecated(\n"
     ]
    },
    {
     "name": "stdout",
     "output_type": "stream",
     "text": [
      "\n",
      "\n",
      "\u001b[1m> Entering new SequentialChain chain...\u001b[0m\n",
      "\n",
      "\n",
      "\u001b[1m> Entering new LLMChain chain...\u001b[0m\n",
      "Prompt after formatting:\n",
      "\u001b[32;1m\u001b[1;3m\n",
      "Text:[Document(page_content='The term machine learning was coined in 1959 by Arthur Samuel, an IBM employee and pioneer in the field of computer gaming and artificial intelligence.[9][10] The synonym self-teaching computers was also used in this time period.[11][12]\\n\\nAlthough the earliest machine learning model was introduced in the 1950s when Arthur Samuel invented a program that calculated the winning chance in checkers for each side, the history of machine learning roots back to decades of human desire and effort to study human cognitive processes.[13] In 1949, Canadian psychologist Donald Hebb published the book The Organization of Behavior, in which he introduced a theoretical neural structure formed by certain interactions among nerve cells.[14] Hebb\\'s model of neurons interacting with one another set a groundwork for how AIs and machine learning algorithms work under nodes, or artificial neurons used by computers to communicate data.[13] Other researchers who have studied human cognitive systems contributed to the modern machine learning technologies as well, including logician Walter Pitts and Warren McCulloch, who proposed the early mathematical models of neural networks to come up with algorithms that mirror human thought processes.[13]\\n\\nBy the early 1960s an experimental \"learning machine\" with punched tape memory, called Cybertron, had been developed by Raytheon Company to analyze sonar signals, electrocardiograms, and speech patterns using rudimentary reinforcement learning. It was repetitively \"trained\" by a human operator/teacher to recognize patterns and equipped with a \"goof\" button to cause it to re-evaluate incorrect decisions.[15] A representative book on research into machine learning during the 1960s was Nilsson\\'s book on Learning Machines, dealing mostly with machine learning for pattern classification.[16] Interest related to pattern recognition continued into the 1970s, as described by Duda and Hart in 1973.[17] In 1981 a report was given on using teaching strategies so that an artificial neural network learns to recognize 40 characters (26 letters, 10 digits, and 4 special symbols) from a computer terminal.[18]', metadata={'source': 'data.txt'})]\n",
      "You are an expert MCQ maker.Given the above text,it is your job to create a quiz of 4 multiple choice questions for machine learning students in simple tone.\n",
      "Make sure the questions are not repeated and check all the questions to be conforming he text as well.\n",
      "make sure to format your response like RESONSE_JSON below and use it as a guide.Ensure to make 4 MCQs.\n",
      "###Response Json\n",
      "{\"1\": {\"mcq\": \"multiple choice questions\", \"options\": {\"a\": \"choice here\", \"b\": \"choice here\", \"c\": \"choice here\", \"d\": \"choice here\"}, \"correct\": \"correct answer\"}, \"2\": {\"mcq\": \"multiple choice questions\", \"options\": {\"a\": \"choice here\", \"b\": \"choice here\", \"c\": \"choice here\", \"d\": \"choice here\"}, \"correct\": \"correct answer\"}, \"3\": {\"mcq\": \"multiple choice questions\", \"options\": {\"a\": \"choice here\", \"b\": \"choice here\", \"c\": \"choice here\", \"d\": \"choice here\"}, \"correct\": \"correct answer\"}, \"4\": {\"mcq\": \"multiple choice questions\", \"options\": {\"a\": \"choice here\", \"b\": \"choice here\", \"c\": \"choice here\", \"d\": \"choice here\"}, \"correct\": \"correct answer\"}}    \u001b[0m\n",
      "\n",
      "\u001b[1m> Finished chain.\u001b[0m\n",
      "\n",
      "\n",
      "\u001b[1m> Entering new LLMChain chain...\u001b[0m\n",
      "Prompt after formatting:\n",
      "\u001b[32;1m\u001b[1;3m\n",
      "You are an expert english grammarian and writer .Given a multiple choice Quiz for machine learning students.You need to evaluate the complexity of the question and give a complete analysis of the quiz.Only use at max 50 words for complexity.\n",
      "if the quiz is not at per with the cognitive and analytical abilities of the students ,update the quiz questions which needs to be changed  and change the tone such that it perfectly fits the student abilities\n",
      "Quiz_MCQs:\n",
      "Here are the 4 MCQs:\n",
      "\n",
      "{\"1\": {\"mcq\": \"Who coined the term 'machine learning' in 1959?\", \n",
      "        \"options\": {\"a\": \"Arthur Samuel\", \"b\": \"Donald Hebb\", \"c\": \"Walter Pitts\", \"d\": \"Warren McCulloch\"}, \n",
      "        \"correct\": \"a\"},\n",
      "\n",
      "{\"2\": {\"mcq\": \"In what year was the earliest machine learning model introduced?\", \n",
      "        \"options\": {\"a\": 1949, \"b\": 1959, \"c\": 1960s, \"d\": 1981\"}, \n",
      "        \"correct\": \"b\"},\n",
      "\n",
      "{\"3\": {\"mcq\": \"What was the main goal of Raytheon Company's experimental 'learning machine' Cybertron?\", \n",
      "        \"options\": {\"a\": To analyze sonar signals and electrocardiograms\", \"b\": To recognize patterns and classify objects, \"c\": To develop an artificial neural network\", \"d\": To understand human cognitive processes\"}, \n",
      "        \"correct\": \"a\"},\n",
      "\n",
      "{\"4\": {\"mcq\": \"Who proposed early mathematical models of neural networks to come up with algorithms that mirror human thought processes?\", \n",
      "        \"options\": {\"a\": Donald Hebb, \"b\": Walter Pitts and Warren McCulloch\", \"c\": Arthur Samuel, \"d\": Nilsson\"}, \n",
      "        \"correct\": \"b\"}}\n",
      "check from an expert Engish Writer of the above quiz \u001b[0m\n",
      "\n",
      "\u001b[1m> Finished chain.\u001b[0m\n",
      "\n",
      "\u001b[1m> Finished chain.\u001b[0m\n"
     ]
    }
   ],
   "source": [
    "response=generate_evalaute_chain({\n",
    "    'text':doc,\n",
    "    'number':4,\n",
    "    'subject':'machine learning',\n",
    "    'tone':'simple',\n",
    "    'response_json':json.dumps(response_json)\n",
    "})"
   ]
  },
  {
   "cell_type": "code",
   "execution_count": 22,
   "metadata": {},
   "outputs": [
    {
     "data": {
      "text/plain": [
       "'Here are the 4 MCQs:\\n\\n{\"1\": {\"mcq\": \"Who coined the term \\'machine learning\\' in 1959?\", \\n        \"options\": {\"a\": \"Arthur Samuel\", \"b\": \"Donald Hebb\", \"c\": \"Walter Pitts\", \"d\": \"Warren McCulloch\"}, \\n        \"correct\": \"a\"},\\n\\n{\"2\": {\"mcq\": \"In what year was the earliest machine learning model introduced?\", \\n        \"options\": {\"a\": 1949, \"b\": 1959, \"c\": 1960s, \"d\": 1981\"}, \\n        \"correct\": \"b\"},\\n\\n{\"3\": {\"mcq\": \"What was the main goal of Raytheon Company\\'s experimental \\'learning machine\\' Cybertron?\", \\n        \"options\": {\"a\": To analyze sonar signals and electrocardiograms\", \"b\": To recognize patterns and classify objects, \"c\": To develop an artificial neural network\", \"d\": To understand human cognitive processes\"}, \\n        \"correct\": \"a\"},\\n\\n{\"4\": {\"mcq\": \"Who proposed early mathematical models of neural networks to come up with algorithms that mirror human thought processes?\", \\n        \"options\": {\"a\": Donald Hebb, \"b\": Walter Pitts and Warren McCulloch\", \"c\": Arthur Samuel, \"d\": Nilsson\"}, \\n        \"correct\": \"b\"}}'"
      ]
     },
     "execution_count": 22,
     "metadata": {},
     "output_type": "execute_result"
    }
   ],
   "source": [
    "response['quiz']"
   ]
  },
  {
   "cell_type": "code",
   "execution_count": 23,
   "metadata": {},
   "outputs": [
    {
     "name": "stdout",
     "output_type": "stream",
     "text": [
      "Here are the 4 MCQs:\n",
      "\n",
      "{\"1\": {\"mcq\": \"Who coined the term 'machine learning' in 1959?\", \n",
      "        \"options\": {\"a\": \"Arthur Samuel\", \"b\": \"Donald Hebb\", \"c\": \"Walter Pitts\", \"d\": \"Warren McCulloch\"}, \n",
      "        \"correct\": \"a\"},\n",
      "\n",
      "{\"2\": {\"mcq\": \"In what year was the earliest machine learning model introduced?\", \n",
      "        \"options\": {\"a\": 1949, \"b\": 1959, \"c\": 1960s, \"d\": 1981\"}, \n",
      "        \"correct\": \"b\"},\n",
      "\n",
      "{\"3\": {\"mcq\": \"What was the main goal of Raytheon Company's experimental 'learning machine' Cybertron?\", \n",
      "        \"options\": {\"a\": To analyze sonar signals and electrocardiograms\", \"b\": To recognize patterns and classify objects, \"c\": To develop an artificial neural network\", \"d\": To understand human cognitive processes\"}, \n",
      "        \"correct\": \"a\"},\n",
      "\n",
      "{\"4\": {\"mcq\": \"Who proposed early mathematical models of neural networks to come up with algorithms that mirror human thought processes?\", \n",
      "        \"options\": {\"a\": Donald Hebb, \"b\": Walter Pitts and Warren McCulloch\", \"c\": Arthur Samuel, \"d\": Nilsson\"}, \n",
      "        \"correct\": \"b\"}}\n"
     ]
    }
   ],
   "source": [
    "print(response['quiz'])"
   ]
  },
  {
   "cell_type": "code",
   "execution_count": null,
   "metadata": {},
   "outputs": [],
   "source": []
  }
 ],
 "metadata": {
  "kernelspec": {
   "display_name": "base",
   "language": "python",
   "name": "python3"
  },
  "language_info": {
   "codemirror_mode": {
    "name": "ipython",
    "version": 3
   },
   "file_extension": ".py",
   "mimetype": "text/x-python",
   "name": "python",
   "nbconvert_exporter": "python",
   "pygments_lexer": "ipython3",
   "version": "3.10.14"
  }
 },
 "nbformat": 4,
 "nbformat_minor": 2
}
